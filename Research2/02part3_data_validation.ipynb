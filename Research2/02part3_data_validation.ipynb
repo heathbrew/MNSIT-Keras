{
 "cells": [
  {
   "cell_type": "code",
   "execution_count": 1,
   "id": "30aea22b-84d8-4529-899e-a41dc40f119e",
   "metadata": {},
   "outputs": [],
   "source": [
    "import os"
   ]
  },
  {
   "cell_type": "code",
   "execution_count": 2,
   "id": "921ae979-43a6-48ae-b5a8-62807cb5a61b",
   "metadata": {},
   "outputs": [
    {
     "data": {
      "text/plain": [
       "'D:\\\\Desktop\\\\Deep Learning\\\\Lab 4\\\\Main MNSIT-MLPClassifer\\\\Research'"
      ]
     },
     "execution_count": 2,
     "metadata": {},
     "output_type": "execute_result"
    }
   ],
   "source": [
    "%pwd"
   ]
  },
  {
   "cell_type": "code",
   "execution_count": 3,
   "id": "f60a748d-09cf-42bb-a646-c2882c9f6773",
   "metadata": {},
   "outputs": [],
   "source": [
    "os.chdir(\"../\")"
   ]
  },
  {
   "cell_type": "code",
   "execution_count": 4,
   "id": "e41d8376-74fe-48a7-ad77-5cf2bea31638",
   "metadata": {},
   "outputs": [
    {
     "data": {
      "text/plain": [
       "'D:\\\\Desktop\\\\Deep Learning\\\\Lab 4\\\\Main MNSIT-MLPClassifer'"
      ]
     },
     "execution_count": 4,
     "metadata": {},
     "output_type": "execute_result"
    }
   ],
   "source": [
    "%pwd"
   ]
  },
  {
   "cell_type": "code",
   "execution_count": 5,
   "id": "d1b9b7e5-7fe2-4b5d-8c40-6b247109981c",
   "metadata": {},
   "outputs": [
    {
     "name": "stdout",
     "output_type": "stream",
     "text": [
      "WARNING:tensorflow:From D:\\Desktop\\Deep Learning\\Lab 2\\MNSIT-MLPClassifer\\venv\\lib\\site-packages\\keras\\src\\losses.py:2976: The name tf.losses.sparse_softmax_cross_entropy is deprecated. Please use tf.compat.v1.losses.sparse_softmax_cross_entropy instead.\n",
      "\n",
      "Downloading data from https://storage.googleapis.com/tensorflow/tf-keras-datasets/mnist.npz\n",
      "11490434/11490434 [==============================] - 3s 0us/step\n"
     ]
    },
    {
     "name": "stderr",
     "output_type": "stream",
     "text": [
      "2024-02-19 14:35:12,239 - INFO - Data loaded and preprocessed successfully.\n"
     ]
    },
    {
     "data": {
      "image/png": "[encoded data removed]",
      "text/plain": [
       "<Figure size 1000x1000 with 10 Axes>"
      ]
     },
     "metadata": {},
     "output_type": "display_data"
    },
    {
     "name": "stderr",
     "output_type": "stream",
     "text": [
      "2024-02-19 14:35:12,531 - INFO - Validation status written to: D:\\Desktop\\Deep Learning\\Lab 4\\Main MNSIT-MLPClassifer\\data_validation\\validation_status.txt\n"
     ]
    }
   ],
   "source": [
    "import tensorflow as tf\n",
    "from tensorflow.keras.utils import to_categorical\n",
    "import logging\n",
    "from dataclasses import dataclass\n",
    "from pathlib import Path\n",
    "import matplotlib.pyplot as plt\n",
    "\n",
    "# Configure logging\n",
    "logging.basicConfig(level=logging.INFO, format='%(asctime)s - %(levelname)s - %(message)s')\n",
    "\n",
    "@dataclass\n",
    "class DataValidationConfig:\n",
    "    root_dir: Path\n",
    "    status_file: Path\n",
    "\n",
    "class ConfigurationManager:\n",
    "    def __init__(self, config_dir):\n",
    "        self.config_dir = Path(config_dir)\n",
    "\n",
    "    def get_data_validation_config(self) -> DataValidationConfig:\n",
    "        root_dir = self.config_dir / 'data_validation'\n",
    "        status_file = root_dir / \"validation_status.txt\"\n",
    "\n",
    "        # Ensure the directory for the status file exists\n",
    "        root_dir.mkdir(parents=True, exist_ok=True)\n",
    "\n",
    "        return DataValidationConfig(root_dir=root_dir, status_file=status_file)\n",
    "\n",
    "class DataProcessor:\n",
    "    def __init__(self, config: DataValidationConfig):\n",
    "        self.config = config\n",
    "        self.train_images = None\n",
    "        self.train_labels = None\n",
    "        self.test_images = None\n",
    "        self.test_labels = None\n",
    "\n",
    "    def load_and_preprocess_data(self):\n",
    "        # Load MNIST data\n",
    "        (train_images, train_labels), (test_images, test_labels) = tf.keras.datasets.mnist.load_data()\n",
    "\n",
    "        # Preprocess the data\n",
    "        self.train_images = train_images.reshape((60000, 28, 28, 1)).astype('float32') / 255\n",
    "        self.test_images = test_images.reshape((10000, 28, 28, 1)).astype('float32') / 255\n",
    "        self.train_labels = to_categorical(train_labels)\n",
    "        self.test_labels = to_categorical(test_labels)\n",
    "\n",
    "        logging.info(f\"Data loaded and preprocessed successfully.\")\n",
    "\n",
    "    def display_sample_images(self):\n",
    "        # Display the first 10 images from the dataset\n",
    "        plt.figure(figsize=(10, 10))\n",
    "        for i in range(10):\n",
    "            plt.subplot(2, 5, i+1)\n",
    "            plt.xticks([])\n",
    "            plt.yticks([])\n",
    "            plt.grid(False)\n",
    "            plt.imshow(self.train_images[i].reshape(28, 28), cmap=plt.cm.binary)\n",
    "            plt.xlabel(self.train_labels[i].argmax())\n",
    "        plt.show()\n",
    "\n",
    "    def write_validation_status(self):\n",
    "        with open(self.config.status_file, 'w', encoding='utf-8') as f:\n",
    "            f.write(f\"Training data shape: {self.train_images.shape}\\n\")\n",
    "            f.write(f\"Training labels shape: {self.train_labels.shape}\\n\")\n",
    "            f.write(f\"Testing data shape: {self.test_images.shape}\\n\")\n",
    "            f.write(f\"Testing labels shape: {self.test_labels.shape}\\n\")\n",
    "            logging.info(f\"Validation status written to: {self.config.status_file}\")\n",
    "\n",
    "def main():\n",
    "    config_dir = Path(os.getcwd())  # Update with your root directory path\n",
    "    config_manager = ConfigurationManager(config_dir)\n",
    "    data_validation_config = config_manager.get_data_validation_config()\n",
    "    \n",
    "    data_processor = DataProcessor(data_validation_config)\n",
    "    data_processor.load_and_preprocess_data()\n",
    "    data_processor.display_sample_images()\n",
    "    data_processor.write_validation_status()\n",
    "\n",
    "if __name__ == \"__main__\":\n",
    "    main()\n"
   ]
  },
  {
   "cell_type": "code",
   "execution_count": 6,
   "id": "e7b7eae3-93e0-40d4-813e-9730f9dc40c0",
   "metadata": {},
   "outputs": [
    {
     "name": "stdout",
     "output_type": "stream",
     "text": [
      "Training data shape: (60000, 28, 28, 1)\n",
      "Training labels shape: (60000, 10)\n",
      "Testing data shape: (10000, 28, 28, 1)\n",
      "Testing labels shape: (10000, 10)\n",
      "\n"
     ]
    }
   ],
   "source": [
    "# Read the dataset from a text file\n",
    "file_path = r\"data_validation\\validation_status.txt\"\n",
    "with open(file_path, 'r', encoding='utf-8') as file:\n",
    "    dataset_text = file.read()\n",
    "\n",
    "print(dataset_text)"
   ]
  },
  {
   "cell_type": "code",
   "execution_count": null,
   "id": "bc297008-4329-4050-b551-07f3fc94fe18",
   "metadata": {},
   "outputs": [],
   "source": []
  },
  {
   "cell_type": "code",
   "execution_count": null,
   "id": "150206c9-fa5f-4f43-89df-0a50e4594a72",
   "metadata": {},
   "outputs": [],
   "source": []
  },
  {
   "cell_type": "code",
   "execution_count": null,
   "id": "87046652-b24a-48a0-b8c7-c4077d4c4118",
   "metadata": {},
   "outputs": [],
   "source": []
  },
  {
   "cell_type": "code",
   "execution_count": null,
   "id": "4ec51cfd-abfa-427d-8df7-836c7ad12532",
   "metadata": {},
   "outputs": [],
   "source": []
  }
 ],
 "metadata": {
  "kernelspec": {
   "display_name": "Python 3 (ipykernel)",
   "language": "python",
   "name": "python3"
  },
  "language_info": {
   "codemirror_mode": {
    "name": "ipython",
    "version": 3
   },
   "file_extension": ".py",
   "mimetype": "text/x-python",
   "name": "python",
   "nbconvert_exporter": "python",
   "pygments_lexer": "ipython3",
   "version": "3.10.0"
  }
 },
 "nbformat": 4,
 "nbformat_minor": 5
}
