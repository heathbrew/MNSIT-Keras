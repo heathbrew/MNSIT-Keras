{
 "cells": [
  {
   "cell_type": "code",
   "execution_count": 1,
   "id": "28acc7d6-2b7d-441b-9d43-64991e737927",
   "metadata": {},
   "outputs": [],
   "source": [
    "import os"
   ]
  },
  {
   "cell_type": "code",
   "execution_count": 2,
   "id": "3fd92e91-636b-4552-a2ab-092d72edb624",
   "metadata": {},
   "outputs": [
    {
     "data": {
      "text/plain": [
       "'D:\\\\Desktop\\\\Deep Learning\\\\Lab 3\\\\Main MNSIT-MLPClassifer\\\\Research'"
      ]
     },
     "execution_count": 2,
     "metadata": {},
     "output_type": "execute_result"
    }
   ],
   "source": [
    "%pwd"
   ]
  },
  {
   "cell_type": "code",
   "execution_count": 3,
   "id": "8b00df3d-5443-45c1-b185-0f79fcec01dc",
   "metadata": {},
   "outputs": [],
   "source": [
    "os.chdir(\"../\")"
   ]
  },
  {
   "cell_type": "code",
   "execution_count": 4,
   "id": "17b8c4d1-2ab5-45b0-9a41-9408909137b7",
   "metadata": {},
   "outputs": [
    {
     "data": {
      "text/plain": [
       "'D:\\\\Desktop\\\\Deep Learning\\\\Lab 3\\\\Main MNSIT-MLPClassifer'"
      ]
     },
     "execution_count": 4,
     "metadata": {},
     "output_type": "execute_result"
    }
   ],
   "source": [
    "%pwd"
   ]
  },
  {
   "cell_type": "code",
   "execution_count": 5,
   "id": "58bc1ae9-8e16-47ed-9531-da4ad0ebe2ef",
   "metadata": {},
   "outputs": [],
   "source": [
    "import warnings\n",
    "\n",
    "# Disable all warnings\n",
    "warnings.filterwarnings(\"ignore\")\n",
    "warnings.filterwarnings(\"ignore\", message=\"From .*: The name tf.get_default_graph is deprecated.\")\n",
    "warnings.filterwarnings(\"ignore\", message=\"From .*: The name tf.train.Optimizer is deprecated.\")\n",
    "warnings.filterwarnings(\"ignore\", message=\"From .*: The name tf.ragged.RaggedTensorValue is deprecated.\")\n",
    "warnings.filterwarnings(\"ignore\", message=\"From .*: The name tf.executing_eagerly_outside_functions is deprecated.\")"
   ]
  },
  {
   "cell_type": "code",
   "execution_count": 6,
   "id": "a269a93f-bdce-4e8b-9d4f-d0b56acf49a7",
   "metadata": {},
   "outputs": [
    {
     "name": "stdout",
     "output_type": "stream",
     "text": [
      "WARNING:tensorflow:From D:\\Desktop\\Deep Learning\\Lab 2\\MNSIT-MLPClassifer\\venv\\lib\\site-packages\\keras\\src\\losses.py:2976: The name tf.losses.sparse_softmax_cross_entropy is deprecated. Please use tf.compat.v1.losses.sparse_softmax_cross_entropy instead.\n",
      "\n",
      "WARNING:tensorflow:From D:\\Desktop\\Deep Learning\\Lab 2\\MNSIT-MLPClassifer\\venv\\lib\\site-packages\\keras\\src\\backend.py:1398: The name tf.executing_eagerly_outside_functions is deprecated. Please use tf.compat.v1.executing_eagerly_outside_functions instead.\n",
      "\n"
     ]
    },
    {
     "name": "stderr",
     "output_type": "stream",
     "text": [
      "2024-02-12 21:59:44,345 - WARNING - From D:\\Desktop\\Deep Learning\\Lab 2\\MNSIT-MLPClassifer\\venv\\lib\\site-packages\\keras\\src\\backend.py:1398: The name tf.executing_eagerly_outside_functions is deprecated. Please use tf.compat.v1.executing_eagerly_outside_functions instead.\n",
      "\n"
     ]
    },
    {
     "name": "stdout",
     "output_type": "stream",
     "text": [
      "WARNING:tensorflow:From D:\\Desktop\\Deep Learning\\Lab 2\\MNSIT-MLPClassifer\\venv\\lib\\site-packages\\keras\\src\\optimizers\\__init__.py:309: The name tf.train.Optimizer is deprecated. Please use tf.compat.v1.train.Optimizer instead.\n",
      "\n"
     ]
    },
    {
     "name": "stderr",
     "output_type": "stream",
     "text": [
      "2024-02-12 21:59:45,066 - WARNING - From D:\\Desktop\\Deep Learning\\Lab 2\\MNSIT-MLPClassifer\\venv\\lib\\site-packages\\keras\\src\\optimizers\\__init__.py:309: The name tf.train.Optimizer is deprecated. Please use tf.compat.v1.train.Optimizer instead.\n",
      "\n",
      "2024-02-12 21:59:47,048 - INFO - X_test and y_test loaded\n"
     ]
    },
    {
     "name": "stdout",
     "output_type": "stream",
     "text": [
      "395/395 [==============================] - 2s 4ms/step\n"
     ]
    },
    {
     "name": "stderr",
     "output_type": "stream",
     "text": [
      "2024-02-12 21:59:49,682 - INFO - Accuracy: 0.9651512751465231\n",
      "2024-02-12 21:59:49,686 - INFO - Precision: 0.9653371088522127\n",
      "2024-02-12 21:59:49,689 - INFO - Recall: 0.9652626971367433\n",
      "2024-02-12 21:59:49,695 - INFO - F1 Score: 0.965256306308318\n"
     ]
    }
   ],
   "source": [
    "import logging\n",
    "import joblib\n",
    "import os\n",
    "from dataclasses import dataclass\n",
    "from pathlib import Path\n",
    "import pandas as pd\n",
    "import numpy as np\n",
    "from sklearn.metrics import accuracy_score, precision_recall_fscore_support\n",
    "from tensorflow.keras.models import load_model\n",
    "\n",
    "# Configure logging\n",
    "logging.basicConfig(level=logging.INFO, format='%(asctime)s - %(levelname)s - %(message)s')\n",
    "\n",
    "@dataclass(frozen=True)\n",
    "class DataTransformationConfig:\n",
    "    root_dir: Path\n",
    "    X_test_file: Path\n",
    "    y_test_file: Path\n",
    "    scaler_file: Path\n",
    "    label_encoder_file: Path\n",
    "    keras_mnist_model_file: Path\n",
    "\n",
    "class ConfigurationManager:\n",
    "    def __init__(self):\n",
    "        self.root_dir = Path(os.getcwd())\n",
    "        self.X_test_file = self.root_dir / \"dataset/Modeltraining/X_test.csv\"\n",
    "        self.y_test_file = self.root_dir / \"dataset/Modeltraining/y_test.csv\"\n",
    "        self.experiment_results_dir = self.root_dir / \"ModelExperiments\"\n",
    "        self.scaler_file = self.experiment_results_dir / \"scaler.pkl\"\n",
    "        self.label_encoder_file = self.experiment_results_dir / \"label_encoder.pkl\"\n",
    "        self.keras_mnist_model_file = self.experiment_results_dir / \"model_nodes_64_layers_16_epochs_30.keras\"\n",
    "\n",
    "    def get_data_transformation_config(self) -> DataTransformationConfig:\n",
    "        return DataTransformationConfig(\n",
    "            root_dir=self.root_dir,\n",
    "            X_test_file=self.X_test_file,\n",
    "            y_test_file=self.y_test_file,\n",
    "            scaler_file=self.scaler_file,\n",
    "            label_encoder_file=self.label_encoder_file,\n",
    "            keras_mnist_model_file=self.keras_mnist_model_file\n",
    "        )\n",
    "\n",
    "class ModelEvaluation:\n",
    "    def __init__(self, config: DataTransformationConfig):\n",
    "        self.config = config\n",
    "        self.scaler = joblib.load(config.scaler_file)\n",
    "        self.label_encoder = joblib.load(config.label_encoder_file)\n",
    "        self.model = load_model(config.keras_mnist_model_file)\n",
    "\n",
    "    def load_test_data(self):\n",
    "        X_test = pd.read_csv(self.config.X_test_file)\n",
    "        y_test = pd.read_csv(self.config.y_test_file)\n",
    "        logging.info(\"X_test and y_test loaded\")\n",
    "\n",
    "        X_test_scaled = self.scaler.transform(X_test)\n",
    "        y_test_encoded = self.label_encoder.transform(y_test) \n",
    "\n",
    "        return X_test_scaled, y_test_encoded\n",
    "\n",
    "    def generate_prediction_from_test(self):\n",
    "        X_test_scaled, y_test_encoded = self.load_test_data()\n",
    "        y_pred = self.model.predict(X_test_scaled)\n",
    "    \n",
    "        # Assuming your model outputs probabilities\n",
    "        y_pred_labels = np.argmax(y_pred, axis=1)\n",
    "    \n",
    "        # Ensure y_pred_labels is of integer type for indexing\n",
    "        y_pred_labels = y_pred_labels.astype(int)  # Ensure integer type\n",
    "    \n",
    "        # Initialize y_test_labels and y_pred_labels for scope\n",
    "        y_test_labels = None\n",
    "        y_pred_transformed = None\n",
    "    \n",
    "        try:\n",
    "            # The inverse transform should be applied to y_test, not y_pred_labels,\n",
    "            # because y_test is what we compare against. We got this wrong in the previous code.\n",
    "            # It's y_test that needs to be inverse transformed if it was label encoded.\n",
    "            y_test_labels = y_test_encoded\n",
    "    \n",
    "            # Only inverse transform y_pred_labels if necessary. If your model outputs\n",
    "            # labels in the same format as y_test, you may not need to inverse transform.\n",
    "            y_pred_transformed = self.label_encoder.inverse_transform(y_pred_labels)\n",
    "        except Exception as e:\n",
    "            logging.error(f\"Error during inverse transformation: {e}\")\n",
    "            # Return or handle error appropriately\n",
    "            return\n",
    "    \n",
    "        # Proceed with evaluation using the correctly transformed labels\n",
    "        accuracy = accuracy_score(y_test_labels, y_pred_transformed)\n",
    "        precision, recall, fscore, _ = precision_recall_fscore_support(y_test_labels, y_pred_transformed, average='macro', zero_division=0)\n",
    "    \n",
    "        logging.info(f\"Accuracy: {accuracy}\")\n",
    "        logging.info(f\"Precision: {precision}\")\n",
    "        logging.info(f\"Recall: {recall}\")\n",
    "        logging.info(f\"F1 Score: {fscore}\")\n",
    "\n",
    "def main():\n",
    "    try:\n",
    "        config_manager = ConfigurationManager()\n",
    "        data_transformation_config = config_manager.get_data_transformation_config()\n",
    "        model_evaluation = ModelEvaluation(config=data_transformation_config)\n",
    "        \n",
    "        model_evaluation.generate_prediction_from_test()\n",
    "\n",
    "    except Exception as e:\n",
    "        logging.error(f\"Error occurred: {e}\")\n",
    "        raise e\n",
    "\n",
    "if __name__ == \"__main__\":\n",
    "    main()\n"
   ]
  },
  {
   "cell_type": "code",
   "execution_count": null,
   "id": "f3d732d9-31ef-46a8-8b1b-db06e5c0aef7",
   "metadata": {},
   "outputs": [],
   "source": []
  }
 ],
 "metadata": {
  "kernelspec": {
   "display_name": "Python 3 (ipykernel)",
   "language": "python",
   "name": "python3"
  },
  "language_info": {
   "codemirror_mode": {
    "name": "ipython",
    "version": 3
   },
   "file_extension": ".py",
   "mimetype": "text/x-python",
   "name": "python",
   "nbconvert_exporter": "python",
   "pygments_lexer": "ipython3",
   "version": "3.10.0"
  }
 },
 "nbformat": 4,
 "nbformat_minor": 5
}
