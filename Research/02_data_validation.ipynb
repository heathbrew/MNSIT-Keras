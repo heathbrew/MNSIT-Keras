{
 "cells": [
  {
   "cell_type": "code",
   "execution_count": 1,
   "id": "30aea22b-84d8-4529-899e-a41dc40f119e",
   "metadata": {},
   "outputs": [],
   "source": [
    "import os"
   ]
  },
  {
   "cell_type": "code",
   "execution_count": 2,
   "id": "921ae979-43a6-48ae-b5a8-62807cb5a61b",
   "metadata": {},
   "outputs": [
    {
     "data": {
      "text/plain": [
       "'D:\\\\Desktop\\\\Deep Learning\\\\Lab 2\\\\MNSIT-MLPClassifer\\\\Research'"
      ]
     },
     "execution_count": 2,
     "metadata": {},
     "output_type": "execute_result"
    }
   ],
   "source": [
    "%pwd"
   ]
  },
  {
   "cell_type": "code",
   "execution_count": 3,
   "id": "f60a748d-09cf-42bb-a646-c2882c9f6773",
   "metadata": {},
   "outputs": [],
   "source": [
    "os.chdir(\"../\")"
   ]
  },
  {
   "cell_type": "code",
   "execution_count": 4,
   "id": "e41d8376-74fe-48a7-ad77-5cf2bea31638",
   "metadata": {},
   "outputs": [
    {
     "data": {
      "text/plain": [
       "'D:\\\\Desktop\\\\Deep Learning\\\\Lab 2\\\\MNSIT-MLPClassifer'"
      ]
     },
     "execution_count": 4,
     "metadata": {},
     "output_type": "execute_result"
    }
   ],
   "source": [
    "%pwd"
   ]
  },
  {
   "cell_type": "code",
   "execution_count": 10,
   "id": "9d39975f-5cc7-41ed-a8a8-9d447de1a114",
   "metadata": {},
   "outputs": [
    {
     "name": "stdout",
     "output_type": "stream",
     "text": [
      " MNIST dataset Loaded \n"
     ]
    }
   ],
   "source": [
    "# import arff\n",
    "# import numpy as np\n",
    "\n",
    "# # Load ARFF data\n",
    "# with open(r'Dataset\\Unzipped data\\mnist_784.arff', 'r') as arff_file:\n",
    "#     data = arff.load(arff_file)\n",
    "\n",
    "# # Assuming the last column contains the target values\n",
    "# # Convert the loaded data to a numpy array first\n",
    "# data_array = np.array(data['data'])\n",
    "\n",
    "# print(\" MNIST dataset Loaded \")"
   ]
  },
  {
   "cell_type": "code",
   "execution_count": 11,
   "id": "95a79edc-80a9-4cd5-891d-81420f98f806",
   "metadata": {},
   "outputs": [
    {
     "name": "stdout",
     "output_type": "stream",
     "text": [
      "Input data shape: (70000, 784)\n",
      "Target data shape: (70000,)\n"
     ]
    }
   ],
   "source": [
    "# # This step assumes that all the data can be converted to floats directly\n",
    "# X = np.array(data_array[:, :-1], dtype=np.float32)\n",
    "# y = data_array[:, -1]\n",
    "\n",
    "# # Print the shape of input data and target data\n",
    "# print(\"Input data shape:\", X.shape)\n",
    "# print(\"Target data shape:\", y.shape)"
   ]
  },
  {
   "cell_type": "code",
   "execution_count": 12,
   "id": "5dc914a3-17d1-412b-92bd-02cfe0650131",
   "metadata": {},
   "outputs": [
    {
     "data": {
      "image/png": "[encoded data removed]",
      "text/plain": [
       "<Figure size 640x480 with 10 Axes>"
      ]
     },
     "metadata": {},
     "output_type": "display_data"
    }
   ],
   "source": [
    "# import matplotlib.pyplot as plt\n",
    "\n",
    "# # Q3: Reshape and display the top ten images\n",
    "# X_reshaped = X.reshape(-1, 28, 28)\n",
    "# for i in range(10):\n",
    "#     plt.subplot(2, 5, i + 1)\n",
    "#     plt.imshow(X_reshaped[i], cmap=\"gray\")\n",
    "#     plt.title(f\"Label: {int(y[i])}\")\n",
    "#     plt.axis('off')\n",
    "# plt.show()"
   ]
  },
  {
   "cell_type": "code",
   "execution_count": 16,
   "id": "42e4e8ae-11f7-4fc1-a254-713403441b74",
   "metadata": {},
   "outputs": [
    {
     "name": "stderr",
     "output_type": "stream",
     "text": [
      "2024-02-05 11:58:50,049 - INFO - ARff MNIST Dataset loaded\n",
      "2024-02-05 11:58:54,607 - INFO - Validation status written to: D:\\Desktop\\Deep Learning\\Lab 2\\MNSIT-MLPClassifer\\data_validation\\validation_status.txt\n",
      "2024-02-05 11:58:54,609 - INFO - Input data shape: (70000, 784)\n",
      "2024-02-05 11:58:54,610 - INFO - Target data shape: (70000,)\n"
     ]
    },
    {
     "data": {
      "image/png": "[encoded data removed]",
      "text/plain": [
       "<Figure size 640x480 with 10 Axes>"
      ]
     },
     "metadata": {},
     "output_type": "display_data"
    },
    {
     "name": "stderr",
     "output_type": "stream",
     "text": [
      "2024-02-05 11:58:56,742 - INFO - Validation completed successfully.\n"
     ]
    }
   ],
   "source": [
    "import logging\n",
    "import os\n",
    "from dataclasses import dataclass\n",
    "from pathlib import Path\n",
    "import arff\n",
    "import numpy as np\n",
    "import matplotlib.pyplot as plt\n",
    "\n",
    "# Configure logging\n",
    "logging.basicConfig(level=logging.INFO, format='%(asctime)s - %(levelname)s - %(message)s')\n",
    "\n",
    "@dataclass\n",
    "class DataValidationConfig:\n",
    "    root_dir: Path\n",
    "    status_file: Path\n",
    "    arff_data_file: Path\n",
    "\n",
    "class ConfigurationManager:\n",
    "    def __init__(self, config_dir):\n",
    "        self.config_dir = config_dir\n",
    "\n",
    "    def get_data_validation_config(self) -> DataValidationConfig:\n",
    "        root_dir = Path(self.config_dir, 'data_validation')\n",
    "        status_file = root_dir / \"validation_status.txt\"\n",
    "        arff_data_file = Path(self.config_dir, 'Dataset', 'Unzipped data', 'mnist_784.arff')\n",
    "\n",
    "        data_validation_config = DataValidationConfig(\n",
    "            root_dir=root_dir,\n",
    "            status_file=status_file,\n",
    "            arff_data_file=arff_data_file\n",
    "        )\n",
    "\n",
    "        return data_validation_config\n",
    "\n",
    "class DataValidation:\n",
    "    def __init__(self, config: DataValidationConfig):\n",
    "        self.config = config\n",
    "\n",
    "    def validate_images(self) -> bool:\n",
    "        try:\n",
    "\n",
    "            # Ensure the directory for the status file exists\n",
    "            self.config.root_dir.mkdir(parents=True, exist_ok=True)\n",
    "            \n",
    "            # Load ARFF data\n",
    "            with open(self.config.arff_data_file, 'r') as arff_file:\n",
    "                data = arff.load(arff_file)\n",
    "\n",
    "            logging.info(f\"ARff MNIST Dataset loaded\")\n",
    "\n",
    "            # Convert the loaded data to a numpy array\n",
    "            data_array = np.array(data['data'], dtype=float)\n",
    "\n",
    "            # Assuming the last column contains the target values\n",
    "            X = np.array(data_array[:, :-1], dtype=np.float32)\n",
    "            y = np.array(data_array[:, -1], dtype=np.float32)\n",
    "            \n",
    "            # Use the status file to write validation details\n",
    "            with open(self.config.status_file, 'w', encoding='utf-8') as f:\n",
    "                f.write(f\"Input data shape: {X.shape}\\n\")\n",
    "                f.write(f\"Target data shape: {y.shape}\\n\")\n",
    "                # Add any other details you wish to log here\n",
    "\n",
    "            # Display the path of the status file using logger\n",
    "            logging.info(f\"Validation status written to: {self.config.status_file.resolve()}\")\n",
    "\n",
    "            # Print the shape of input and target data\n",
    "            logging.info(f\"Input data shape: {X.shape}\")\n",
    "            logging.info(f\"Target data shape: {y.shape}\")\n",
    "\n",
    "            # Reshape and display the top ten images\n",
    "            X_reshaped = X.reshape(-1, 28, 28)\n",
    "            for i in range(10):\n",
    "                plt.subplot(2, 5, i + 1)\n",
    "                plt.imshow(X_reshaped[i], cmap=\"gray\")\n",
    "                plt.title(f\"Label: {int(y[i])}\")\n",
    "                plt.axis('off')\n",
    "            plt.show()\n",
    "\n",
    "            logging.info(\"Validation completed successfully.\")\n",
    "            return True\n",
    "\n",
    "        except Exception as e:\n",
    "            logging.error(f\"Error during validation: {e}\")\n",
    "            return False\n",
    "\n",
    "def main():\n",
    "    # Set config_dir to the absolute path of the dataset directory\n",
    "    config_dir = Path(os.getcwd())  # Update with your root directory path\n",
    "    config_manager = ConfigurationManager(config_dir)\n",
    "    data_validation_config = config_manager.get_data_validation_config()\n",
    "    data_validation = DataValidation(data_validation_config)\n",
    "    data_validation.validate_images()\n",
    "\n",
    "if __name__ == \"__main__\":\n",
    "    main()"
   ]
  },
  {
   "cell_type": "code",
   "execution_count": 17,
   "id": "e7b7eae3-93e0-40d4-813e-9730f9dc40c0",
   "metadata": {},
   "outputs": [
    {
     "name": "stdout",
     "output_type": "stream",
     "text": [
      "Input data shape: (70000, 784)\n",
      "Target data shape: (70000,)\n",
      "\n"
     ]
    }
   ],
   "source": [
    "# Read the dataset from a text file\n",
    "file_path = r\"data_validation\\validation_status.txt\"\n",
    "with open(file_path, 'r', encoding='utf-8') as file:\n",
    "    dataset_text = file.read()\n",
    "\n",
    "print(dataset_text)"
   ]
  },
  {
   "cell_type": "code",
   "execution_count": null,
   "id": "bc297008-4329-4050-b551-07f3fc94fe18",
   "metadata": {},
   "outputs": [],
   "source": []
  },
  {
   "cell_type": "code",
   "execution_count": null,
   "id": "150206c9-fa5f-4f43-89df-0a50e4594a72",
   "metadata": {},
   "outputs": [],
   "source": []
  },
  {
   "cell_type": "code",
   "execution_count": null,
   "id": "87046652-b24a-48a0-b8c7-c4077d4c4118",
   "metadata": {},
   "outputs": [],
   "source": []
  },
  {
   "cell_type": "code",
   "execution_count": null,
   "id": "4ec51cfd-abfa-427d-8df7-836c7ad12532",
   "metadata": {},
   "outputs": [],
   "source": []
  }
 ],
 "metadata": {
  "kernelspec": {
   "display_name": "Python 3 (ipykernel)",
   "language": "python",
   "name": "python3"
  },
  "language_info": {
   "codemirror_mode": {
    "name": "ipython",
    "version": 3
   },
   "file_extension": ".py",
   "mimetype": "text/x-python",
   "name": "python",
   "nbconvert_exporter": "python",
   "pygments_lexer": "ipython3",
   "version": "3.10.0"
  }
 },
 "nbformat": 4,
 "nbformat_minor": 5
}
