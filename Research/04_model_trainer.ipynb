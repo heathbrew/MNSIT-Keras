{
 "cells": [
  {
   "cell_type": "code",
   "execution_count": 1,
   "id": "ebd17b3d-88ea-4948-b7c8-f8986db449e6",
   "metadata": {},
   "outputs": [],
   "source": [
    "import os"
   ]
  },
  {
   "cell_type": "code",
   "execution_count": 2,
   "id": "d800b78a-03ee-4bd0-b68d-5f22b1804a8b",
   "metadata": {},
   "outputs": [
    {
     "data": {
      "text/plain": [
       "'D:\\\\Desktop\\\\Deep Learning\\\\Lab 2\\\\MNSIT-MLPClassifer\\\\Research'"
      ]
     },
     "execution_count": 2,
     "metadata": {},
     "output_type": "execute_result"
    }
   ],
   "source": [
    "%pwd"
   ]
  },
  {
   "cell_type": "code",
   "execution_count": 3,
   "id": "277d5cf0-f6a4-47f3-8171-dd36d4ee3fb2",
   "metadata": {},
   "outputs": [],
   "source": [
    "os.chdir(\"../\")"
   ]
  },
  {
   "cell_type": "code",
   "execution_count": 4,
   "id": "dbe5e2a9-7981-4eb3-9ec9-391f21a607bd",
   "metadata": {},
   "outputs": [
    {
     "data": {
      "text/plain": [
       "'D:\\\\Desktop\\\\Deep Learning\\\\Lab 2\\\\MNSIT-MLPClassifer'"
      ]
     },
     "execution_count": 4,
     "metadata": {},
     "output_type": "execute_result"
    }
   ],
   "source": [
    "%pwd"
   ]
  },
  {
   "cell_type": "code",
   "execution_count": 6,
   "id": "ad229c02-9acb-4056-b9d1-8e0062b3f0dc",
   "metadata": {},
   "outputs": [
    {
     "name": "stderr",
     "output_type": "stream",
     "text": [
      "2024-02-07 00:00:41,758 - INFO - X_train and y_train loaded\n",
      "2024-02-07 00:03:10,116 - INFO - Model training completed\n",
      "2024-02-07 00:03:10,131 - INFO - MLP MNIST model saved\n"
     ]
    }
   ],
   "source": [
    "import logging\n",
    "import os\n",
    "from dataclasses import dataclass\n",
    "from pathlib import Path\n",
    "import pandas as pd\n",
    "from sklearn.neural_network import MLPClassifier\n",
    "from joblib import dump\n",
    "\n",
    "# Configure logging\n",
    "logging.basicConfig(level=logging.INFO, format='%(asctime)s - %(levelname)s - %(message)s')\n",
    "\n",
    "@dataclass(frozen=True)\n",
    "class DataTransformationConfig:\n",
    "    root_dir: Path\n",
    "    X_train_file: Path\n",
    "    y_train_file: Path\n",
    "    mlp_mnist_model_file: Path\n",
    "\n",
    "class ConfigurationManager:\n",
    "    def __init__(self):\n",
    "        self.root_dir = Path(os.getcwd())\n",
    "        self.X_train_file = self.root_dir / \"dataset/Modeltraining/X_train.csv\"\n",
    "        self.y_train_file = self.root_dir / \"dataset/Modeltraining/y_train.csv\"\n",
    "        self.mlp_mnist_model_file = self.root_dir / \"Model/mlp_mnist_model.pkl\"\n",
    "\n",
    "    def get_data_transformation_config(self) -> DataTransformationConfig:\n",
    "        return DataTransformationConfig(\n",
    "            root_dir=self.root_dir,\n",
    "            X_train_file=self.X_train_file,\n",
    "            y_train_file=self.y_train_file,\n",
    "            mlp_mnist_model_file=self.mlp_mnist_model_file\n",
    "        )\n",
    "\n",
    "def save_model(model, file_path):\n",
    "    dump(model, file_path)  # Corrected from joblib.dump to dump, assuming joblib is imported via from joblib import dump\n",
    "\n",
    "class DataTransformation:\n",
    "    def __init__(self, config: DataTransformationConfig):\n",
    "        self.config = config\n",
    "\n",
    "    def train_model(self):\n",
    "        # Load the training data\n",
    "        X_train = pd.read_csv(self.config.X_train_file)\n",
    "        y_train = pd.read_csv(self.config.y_train_file)\n",
    "\n",
    "        logging.info(\"X_train and y_train loaded\")\n",
    "\n",
    "        # Train the MLP Classifier\n",
    "        mlp = MLPClassifier(hidden_layer_sizes=(32,), max_iter=100)  # Adjusted max_iter for better convergence, if needed\n",
    "        mlp.fit(X_train, y_train.values.ravel())  # Using .values.ravel() to ensure y is the correct shape\n",
    "\n",
    "        logging.info(\"Model training completed\")\n",
    "\n",
    "        # Save the model\n",
    "        save_model(mlp, self.config.mlp_mnist_model_file)\n",
    "        logging.info(\"MLP MNIST model saved\")\n",
    "\n",
    "def main():\n",
    "    try:\n",
    "        config_manager = ConfigurationManager()\n",
    "        data_transformation_config = config_manager.get_data_transformation_config()\n",
    "        data_transformation = DataTransformation(config=data_transformation_config)\n",
    "        \n",
    "        # Train the model\n",
    "        data_transformation.train_model()\n",
    "    except Exception as e:\n",
    "        logging.error(f\"Error occurred: {e}\")\n",
    "        raise\n",
    "\n",
    "if __name__ == \"__main__\":\n",
    "    main()\n"
   ]
  },
  {
   "cell_type": "code",
   "execution_count": null,
   "id": "05315bcf-65b6-4616-ada8-ed32f9001aa9",
   "metadata": {},
   "outputs": [],
   "source": []
  }
 ],
 "metadata": {
  "kernelspec": {
   "display_name": "Python 3 (ipykernel)",
   "language": "python",
   "name": "python3"
  },
  "language_info": {
   "codemirror_mode": {
    "name": "ipython",
    "version": 3
   },
   "file_extension": ".py",
   "mimetype": "text/x-python",
   "name": "python",
   "nbconvert_exporter": "python",
   "pygments_lexer": "ipython3",
   "version": "3.10.0"
  }
 },
 "nbformat": 4,
 "nbformat_minor": 5
}
