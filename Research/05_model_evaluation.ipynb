{
 "cells": [
  {
   "cell_type": "code",
   "execution_count": 1,
   "id": "28acc7d6-2b7d-441b-9d43-64991e737927",
   "metadata": {},
   "outputs": [],
   "source": [
    "import os"
   ]
  },
  {
   "cell_type": "code",
   "execution_count": 2,
   "id": "3fd92e91-636b-4552-a2ab-092d72edb624",
   "metadata": {},
   "outputs": [
    {
     "data": {
      "text/plain": [
       "'D:\\\\Desktop\\\\Deep Learning\\\\Lab 2\\\\MNSIT-MLPClassifer\\\\Research'"
      ]
     },
     "execution_count": 2,
     "metadata": {},
     "output_type": "execute_result"
    }
   ],
   "source": [
    "%pwd"
   ]
  },
  {
   "cell_type": "code",
   "execution_count": 3,
   "id": "8b00df3d-5443-45c1-b185-0f79fcec01dc",
   "metadata": {},
   "outputs": [],
   "source": [
    "os.chdir(\"../\")"
   ]
  },
  {
   "cell_type": "code",
   "execution_count": 4,
   "id": "17b8c4d1-2ab5-45b0-9a41-9408909137b7",
   "metadata": {},
   "outputs": [
    {
     "data": {
      "text/plain": [
       "'D:\\\\Desktop\\\\Deep Learning\\\\Lab 2\\\\MNSIT-MLPClassifer'"
      ]
     },
     "execution_count": 4,
     "metadata": {},
     "output_type": "execute_result"
    }
   ],
   "source": [
    "%pwd"
   ]
  },
  {
   "cell_type": "code",
   "execution_count": 5,
   "id": "a269a93f-bdce-4e8b-9d4f-d0b56acf49a7",
   "metadata": {},
   "outputs": [
    {
     "name": "stderr",
     "output_type": "stream",
     "text": [
      "2024-02-07 00:03:37,136 - INFO - X_test and y_test loaded\n",
      "D:\\Desktop\\Deep Learning\\Lab 2\\MNSIT-MLPClassifer\\venv\\lib\\site-packages\\sklearn\\base.py:486: UserWarning: X has feature names, but StandardScaler was fitted without feature names\n",
      "  warnings.warn(\n",
      "D:\\Desktop\\Deep Learning\\Lab 2\\MNSIT-MLPClassifer\\venv\\lib\\site-packages\\sklearn\\base.py:493: UserWarning: X does not have valid feature names, but MLPClassifier was fitted with feature names\n",
      "  warnings.warn(\n",
      "2024-02-07 00:03:37,672 - INFO - Accuracy: 0.11177992502244047\n",
      "2024-02-07 00:03:37,674 - INFO - Precision: 0.34756743469491197\n",
      "2024-02-07 00:03:37,676 - INFO - Recall: 0.11274071613956986\n",
      "2024-02-07 00:03:37,678 - INFO - F1 Score: 0.041287423634031255\n"
     ]
    }
   ],
   "source": [
    "import logging\n",
    "import joblib\n",
    "from dataclasses import dataclass\n",
    "from pathlib import Path\n",
    "import pandas as pd\n",
    "from sklearn.metrics import accuracy_score, precision_recall_fscore_support\n",
    "from sklearn.preprocessing import StandardScaler\n",
    "\n",
    "# Configure logging\n",
    "logging.basicConfig(level=logging.INFO, format='%(asctime)s - %(levelname)s - %(message)s')\n",
    "\n",
    "@dataclass(frozen=True)\n",
    "class DataTransformationConfig:\n",
    "    root_dir: Path\n",
    "    X_test_file: Path\n",
    "    y_test_file: Path\n",
    "    scaler_file: Path\n",
    "    mlp_mnist_model_file: Path\n",
    "\n",
    "class ConfigurationManager:\n",
    "    def __init__(self):\n",
    "        self.root_dir = Path(os.getcwd())\n",
    "        self.X_test_file = self.root_dir / \"dataset/Modeltraining/X_test.csv\"\n",
    "        self.y_test_file = self.root_dir / \"dataset/Modeltraining/y_test.csv\"\n",
    "        self.scaler_file = self.root_dir / \"Model/scaler.pkl\"\n",
    "        self.mlp_mnist_model_file = self.root_dir / \"Model/mlp_mnist_model.pkl\"\n",
    "\n",
    "    def get_data_transformation_config(self) -> DataTransformationConfig:\n",
    "        return DataTransformationConfig(\n",
    "            root_dir=self.root_dir,\n",
    "            X_test_file=self.X_test_file,\n",
    "            y_test_file=self.y_test_file,\n",
    "            scaler_file=self.scaler_file,\n",
    "            mlp_mnist_model_file=self.mlp_mnist_model_file\n",
    "        )\n",
    "\n",
    "class ModelEvaluation:\n",
    "    def __init__(self, config: DataTransformationConfig):\n",
    "        self.config = config\n",
    "        # Corrected attribute references\n",
    "        self.scaler = joblib.load(config.scaler_file)\n",
    "        self.model = joblib.load(config.mlp_mnist_model_file)\n",
    "\n",
    "    def load_test_data(self):\n",
    "        # Load the test data\n",
    "        X_test = pd.read_csv(self.config.X_test_file)\n",
    "        y_test = pd.read_csv(self.config.y_test_file)\n",
    "\n",
    "        logging.info(\"X_test and y_test loaded\")\n",
    "        \n",
    "        # Scale the test data\n",
    "        X_test_scaled = self.scaler.transform(X_test)\n",
    "        return X_test_scaled, y_test\n",
    "\n",
    "    def generate_prediction_from_test(self):\n",
    "        X_test_scaled, y_test = self.load_test_data()\n",
    "        # Predict on the test set\n",
    "        y_pred = self.model.predict(X_test_scaled)\n",
    "    \n",
    "        # Calculate and log evaluation metrics, handling undefined metrics\n",
    "        accuracy = accuracy_score(y_test, y_pred)\n",
    "        precision, recall, fscore, _ = precision_recall_fscore_support(y_test, y_pred, average='macro', zero_division=0)\n",
    "    \n",
    "        # Log the metrics\n",
    "        logging.info(f\"Accuracy: {accuracy}\")\n",
    "        logging.info(f\"Precision: {precision}\")\n",
    "        logging.info(f\"Recall: {recall}\")\n",
    "        logging.info(f\"F1 Score: {fscore}\")\n",
    "\n",
    "def main():\n",
    "    try:\n",
    "        config_manager = ConfigurationManager()\n",
    "        data_transformation_config = config_manager.get_data_transformation_config()\n",
    "        model_evaluation = ModelEvaluation(config=data_transformation_config)\n",
    "        \n",
    "        # Generate predictions and evaluate\n",
    "        model_evaluation.generate_prediction_from_test()\n",
    "\n",
    "    except Exception as e:\n",
    "        logging.error(f\"Error occurred: {e}\")\n",
    "        raise e\n",
    "\n",
    "if __name__ == \"__main__\":\n",
    "    main()\n"
   ]
  },
  {
   "cell_type": "code",
   "execution_count": null,
   "id": "f3d732d9-31ef-46a8-8b1b-db06e5c0aef7",
   "metadata": {},
   "outputs": [],
   "source": []
  }
 ],
 "metadata": {
  "kernelspec": {
   "display_name": "Python 3 (ipykernel)",
   "language": "python",
   "name": "python3"
  },
  "language_info": {
   "codemirror_mode": {
    "name": "ipython",
    "version": 3
   },
   "file_extension": ".py",
   "mimetype": "text/x-python",
   "name": "python",
   "nbconvert_exporter": "python",
   "pygments_lexer": "ipython3",
   "version": "3.10.0"
  }
 },
 "nbformat": 4,
 "nbformat_minor": 5
}
