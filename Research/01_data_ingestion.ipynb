{
 "cells": [
  {
   "cell_type": "code",
   "execution_count": 1,
   "metadata": {},
   "outputs": [],
   "source": [
    "import os"
   ]
  },
  {
   "cell_type": "code",
   "execution_count": 2,
   "metadata": {},
   "outputs": [
    {
     "data": {
      "text/plain": [
       "'D:\\\\Desktop\\\\Deep Learning\\\\Lab 2\\\\MNSIT-MLPClassifer\\\\Research'"
      ]
     },
     "execution_count": 2,
     "metadata": {},
     "output_type": "execute_result"
    }
   ],
   "source": [
    "%pwd"
   ]
  },
  {
   "cell_type": "code",
   "execution_count": 3,
   "metadata": {},
   "outputs": [],
   "source": [
    "os.chdir(\"../\")"
   ]
  },
  {
   "cell_type": "code",
   "execution_count": 4,
   "metadata": {},
   "outputs": [
    {
     "data": {
      "text/plain": [
       "'D:\\\\Desktop\\\\Deep Learning\\\\Lab 2\\\\MNSIT-MLPClassifer'"
      ]
     },
     "execution_count": 4,
     "metadata": {},
     "output_type": "execute_result"
    }
   ],
   "source": [
    "%pwd"
   ]
  },
  {
   "cell_type": "code",
   "execution_count": 5,
   "metadata": {},
   "outputs": [
    {
     "name": "stderr",
     "output_type": "stream",
     "text": [
      "INFO:__main__:Extraction completed in: D:\\Desktop\\Deep Learning\\Lab 2\\MNSIT-MLPClassifer\\Dataset\\Unzipped data, Size: 121.97 MB\n"
     ]
    }
   ],
   "source": [
    "import zipfile\n",
    "import os\n",
    "import logging\n",
    "from pathlib import Path\n",
    "from dataclasses import dataclass  # Import dataclass decorator\n",
    "\n",
    "# Configure the logger\n",
    "logging.basicConfig(level=logging.INFO)\n",
    "logger = logging.getLogger(__name__)\n",
    "\n",
    "@dataclass(frozen=True)\n",
    "class DataIngestionConfig:\n",
    "    root_dir: Path\n",
    "    local_data_file: Path\n",
    "    unzip_dir: Path\n",
    "\n",
    "class DataIngestion:\n",
    "    def __init__(self, config: DataIngestionConfig):\n",
    "        self.config = config\n",
    "\n",
    "    def get_size(self, directory: Path):\n",
    "        # Calculate the size of the directory and format it\n",
    "        size = sum(f.stat().st_size for f in directory.glob('**/*') if f.is_file())\n",
    "        size_format = self.format_size(size)\n",
    "        return size_format\n",
    "\n",
    "    def format_size(self, size_in_bytes):\n",
    "        size_in_bytes = float(size_in_bytes)\n",
    "        for unit in ['B', 'KB', 'MB', 'GB']:\n",
    "            if size_in_bytes < 1024.0:\n",
    "                return f\"{size_in_bytes:.2f} {unit}\"\n",
    "            size_in_bytes /= 1024.0\n",
    "        return f\"{size_in_bytes:.2f} TB\"\n",
    "\n",
    "    def extract_zip_file(self):\n",
    "        unzip_path = self.config.unzip_dir\n",
    "        os.makedirs(unzip_path, exist_ok=True)\n",
    "        with zipfile.ZipFile(self.config.local_data_file, 'r') as zip_ref:\n",
    "            zip_ref.extractall(unzip_path)\n",
    "\n",
    "        # Remove the YAML file (data.yaml) after extraction\n",
    "        yaml_file_path = unzip_path / \"data.yaml\"\n",
    "        if yaml_file_path.exists():\n",
    "            yaml_file_path.unlink()\n",
    "        \n",
    "        size = self.get_size(unzip_path)\n",
    "        logger.info(f\"Extraction completed in: {unzip_path}, Size: {size}\")\n",
    "\n",
    "try:\n",
    "    # Provide the root directory path\n",
    "    root_dir = Path(os.getcwd())  # Update with your root directory path\n",
    "    \n",
    "    # Use the path to the dataset zip file\n",
    "    dataset_zip_path = Path(root_dir / \"Dataset\" / \"Zipped data\" / \"Mnist.zip\")\n",
    "    \n",
    "    # Define the unzip directory\n",
    "    unzip_directory = Path(root_dir / \"Dataset\" / \"Unzipped data\")  # Update with your desired unzip directory\n",
    "    \n",
    "    # Create a DataIngestionConfig with the updated paths\n",
    "    data_ingestion_config = DataIngestionConfig(\n",
    "        root_dir=root_dir,\n",
    "        local_data_file=dataset_zip_path,\n",
    "        unzip_dir=unzip_directory\n",
    "    )\n",
    "    \n",
    "    data_ingestion = DataIngestion(config=data_ingestion_config)\n",
    "    data_ingestion.extract_zip_file()\n",
    "except Exception as e:\n",
    "    logger.error(f\"An error occurred: {e}\")\n",
    "    raise e\n"
   ]
  },
  {
   "cell_type": "code",
   "execution_count": 7,
   "metadata": {},
   "outputs": [
    {
     "name": "stdout",
     "output_type": "stream",
     "text": [
      "Contents of the folder:\n",
      "Unzipped data\n"
     ]
    }
   ],
   "source": [
    "import os\n",
    "\n",
    "# Store the current working directory\n",
    "current_directory = os.getcwd()\n",
    "\n",
    "# Specify the path to the folder you want to navigate to\n",
    "folder_path = r'Dataset\\Unzipped data'\n",
    "\n",
    "# Navigate to the folder\n",
    "os.chdir(folder_path)\n",
    "\n",
    "# List the contents of the folder (perform 'ls' equivalent)\n",
    "folder_contents = os.listdir()\n",
    "\n",
    "# Print the folder contents\n",
    "print(\"Contents of the folder:\")\n",
    "for item in folder_contents:\n",
    "    print(item)\n",
    "\n",
    "# Return to the original current directory\n",
    "os.chdir(current_directory)\n"
   ]
  },
  {
   "cell_type": "code",
   "execution_count": 8,
   "metadata": {},
   "outputs": [
    {
     "name": "stdout",
     "output_type": "stream",
     "text": [
      "All contents moved and source directory deleted successfully.\n"
     ]
    }
   ],
   "source": [
    "import os\n",
    "import shutil\n",
    "\n",
    "# Define the source and destination directories\n",
    "source_dir = r'Dataset\\Unzipped data\\Unzipped data'\n",
    "destination_dir = r'Dataset\\Unzipped data'\n",
    "\n",
    "# Ensure the destination directory exists, create it if it does not\n",
    "if not os.path.exists(destination_dir):\n",
    "    os.makedirs(destination_dir)\n",
    "\n",
    "# List all the contents of the source directory\n",
    "contents = os.listdir(source_dir)\n",
    "\n",
    "# Move each item from the source directory to the destination directory\n",
    "for item in contents:\n",
    "    source_path = os.path.join(source_dir, item)\n",
    "    destination_path = os.path.join(destination_dir, item)\n",
    "    shutil.move(source_path, destination_path)\n",
    "\n",
    "# Now that all contents have been moved, delete the source directory\n",
    "shutil.rmtree(source_dir)\n",
    "\n",
    "print(\"All contents moved and source directory deleted successfully.\")\n"
   ]
  },
  {
   "cell_type": "code",
   "execution_count": 9,
   "metadata": {},
   "outputs": [
    {
     "name": "stdout",
     "output_type": "stream",
     "text": [
      "Contents of the folder:\n",
      "description.json\n",
      "mnist_784.arff\n"
     ]
    }
   ],
   "source": [
    "import os\n",
    "\n",
    "# Store the current working directory\n",
    "current_directory = os.getcwd()\n",
    "\n",
    "# Specify the path to the folder you want to navigate to\n",
    "folder_path = r'Dataset\\Unzipped data'\n",
    "\n",
    "# Navigate to the folder\n",
    "os.chdir(folder_path)\n",
    "\n",
    "# List the contents of the folder (perform 'ls' equivalent)\n",
    "folder_contents = os.listdir()\n",
    "\n",
    "# Print the folder contents\n",
    "print(\"Contents of the folder:\")\n",
    "for item in folder_contents:\n",
    "    print(item)\n",
    "\n",
    "# Return to the original current directory\n",
    "os.chdir(current_directory)\n"
   ]
  },
  {
   "cell_type": "code",
   "execution_count": null,
   "metadata": {},
   "outputs": [],
   "source": []
  }
 ],
 "metadata": {
  "kernelspec": {
   "display_name": "Python 3 (ipykernel)",
   "language": "python",
   "name": "python3"
  },
  "language_info": {
   "codemirror_mode": {
    "name": "ipython",
    "version": 3
   },
   "file_extension": ".py",
   "mimetype": "text/x-python",
   "name": "python",
   "nbconvert_exporter": "python",
   "pygments_lexer": "ipython3",
   "version": "3.10.0"
  }
 },
 "nbformat": 4,
 "nbformat_minor": 4
}
